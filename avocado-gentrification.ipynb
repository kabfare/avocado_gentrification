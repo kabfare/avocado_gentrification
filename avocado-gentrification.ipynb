{
 "cells": [
  {
   "cell_type": "code",
   "execution_count": 63,
   "metadata": {},
   "outputs": [],
   "source": [
    "import pandas as pd\n",
    "import seaborn as sns"
   ]
  },
  {
   "cell_type": "code",
   "execution_count": 64,
   "metadata": {},
   "outputs": [
    {
     "data": {
      "text/html": [
       "<div>\n",
       "<style scoped>\n",
       "    .dataframe tbody tr th:only-of-type {\n",
       "        vertical-align: middle;\n",
       "    }\n",
       "\n",
       "    .dataframe tbody tr th {\n",
       "        vertical-align: top;\n",
       "    }\n",
       "\n",
       "    .dataframe thead th {\n",
       "        text-align: right;\n",
       "    }\n",
       "</style>\n",
       "<table border=\"1\" class=\"dataframe\">\n",
       "  <thead>\n",
       "    <tr style=\"text-align: right;\">\n",
       "      <th></th>\n",
       "      <th>Date</th>\n",
       "      <th>AveragePrice</th>\n",
       "      <th>year</th>\n",
       "      <th>region</th>\n",
       "    </tr>\n",
       "  </thead>\n",
       "  <tbody>\n",
       "    <tr>\n",
       "      <th>0</th>\n",
       "      <td>2015-12-27</td>\n",
       "      <td>1.33</td>\n",
       "      <td>2015</td>\n",
       "      <td>Albany</td>\n",
       "    </tr>\n",
       "    <tr>\n",
       "      <th>1</th>\n",
       "      <td>2015-12-20</td>\n",
       "      <td>1.35</td>\n",
       "      <td>2015</td>\n",
       "      <td>Albany</td>\n",
       "    </tr>\n",
       "    <tr>\n",
       "      <th>2</th>\n",
       "      <td>2015-12-13</td>\n",
       "      <td>0.93</td>\n",
       "      <td>2015</td>\n",
       "      <td>Albany</td>\n",
       "    </tr>\n",
       "    <tr>\n",
       "      <th>3</th>\n",
       "      <td>2015-12-06</td>\n",
       "      <td>1.08</td>\n",
       "      <td>2015</td>\n",
       "      <td>Albany</td>\n",
       "    </tr>\n",
       "    <tr>\n",
       "      <th>4</th>\n",
       "      <td>2015-11-29</td>\n",
       "      <td>1.28</td>\n",
       "      <td>2015</td>\n",
       "      <td>Albany</td>\n",
       "    </tr>\n",
       "  </tbody>\n",
       "</table>\n",
       "</div>"
      ],
      "text/plain": [
       "         Date  AveragePrice  year  region\n",
       "0  2015-12-27          1.33  2015  Albany\n",
       "1  2015-12-20          1.35  2015  Albany\n",
       "2  2015-12-13          0.93  2015  Albany\n",
       "3  2015-12-06          1.08  2015  Albany\n",
       "4  2015-11-29          1.28  2015  Albany"
      ]
     },
     "execution_count": 64,
     "metadata": {},
     "output_type": "execute_result"
    }
   ],
   "source": [
    "avo_df = pd.read_csv('avocado.csv', usecols = ['Date', 'AveragePrice', 'year', 'region'])\n",
    "\n",
    "avo_df.head()"
   ]
  },
  {
   "cell_type": "code",
   "execution_count": 65,
   "metadata": {},
   "outputs": [
    {
     "data": {
      "text/html": [
       "<div>\n",
       "<style scoped>\n",
       "    .dataframe tbody tr th:only-of-type {\n",
       "        vertical-align: middle;\n",
       "    }\n",
       "\n",
       "    .dataframe tbody tr th {\n",
       "        vertical-align: top;\n",
       "    }\n",
       "\n",
       "    .dataframe thead th {\n",
       "        text-align: right;\n",
       "    }\n",
       "</style>\n",
       "<table border=\"1\" class=\"dataframe\">\n",
       "  <thead>\n",
       "    <tr style=\"text-align: right;\">\n",
       "      <th></th>\n",
       "      <th>Date</th>\n",
       "      <th>AveragePrice</th>\n",
       "      <th>year</th>\n",
       "      <th>region</th>\n",
       "    </tr>\n",
       "  </thead>\n",
       "  <tbody>\n",
       "    <tr>\n",
       "      <th>52</th>\n",
       "      <td>2015-12-27</td>\n",
       "      <td>0.99</td>\n",
       "      <td>2015</td>\n",
       "      <td>Atlanta</td>\n",
       "    </tr>\n",
       "    <tr>\n",
       "      <th>53</th>\n",
       "      <td>2015-12-20</td>\n",
       "      <td>1.08</td>\n",
       "      <td>2015</td>\n",
       "      <td>Atlanta</td>\n",
       "    </tr>\n",
       "    <tr>\n",
       "      <th>54</th>\n",
       "      <td>2015-12-13</td>\n",
       "      <td>0.96</td>\n",
       "      <td>2015</td>\n",
       "      <td>Atlanta</td>\n",
       "    </tr>\n",
       "    <tr>\n",
       "      <th>55</th>\n",
       "      <td>2015-12-06</td>\n",
       "      <td>1.07</td>\n",
       "      <td>2015</td>\n",
       "      <td>Atlanta</td>\n",
       "    </tr>\n",
       "    <tr>\n",
       "      <th>56</th>\n",
       "      <td>2015-11-29</td>\n",
       "      <td>0.99</td>\n",
       "      <td>2015</td>\n",
       "      <td>Atlanta</td>\n",
       "    </tr>\n",
       "  </tbody>\n",
       "</table>\n",
       "</div>"
      ],
      "text/plain": [
       "          Date  AveragePrice  year   region\n",
       "52  2015-12-27          0.99  2015  Atlanta\n",
       "53  2015-12-20          1.08  2015  Atlanta\n",
       "54  2015-12-13          0.96  2015  Atlanta\n",
       "55  2015-12-06          1.07  2015  Atlanta\n",
       "56  2015-11-29          0.99  2015  Atlanta"
      ]
     },
     "execution_count": 65,
     "metadata": {},
     "output_type": "execute_result"
    }
   ],
   "source": [
    "avo_df = avo_df.loc[avo_df.region == 'Atlanta']\n",
    "\n",
    "avo_df.head()"
   ]
  },
  {
   "cell_type": "code",
   "execution_count": 66,
   "metadata": {},
   "outputs": [
    {
     "data": {
      "text/plain": [
       "(338, 4)"
      ]
     },
     "execution_count": 66,
     "metadata": {},
     "output_type": "execute_result"
    }
   ],
   "source": [
    "avo_df.shape"
   ]
  },
  {
   "cell_type": "code",
   "execution_count": 67,
   "metadata": {},
   "outputs": [],
   "source": [
    "df_15 = pd.read_csv('unmerged-census-data/2015-atlanta-census.csv', header=0, names=['group', '2015'])\n",
    "df_16 = pd.read_csv('unmerged-census-data/2016-atlanta-census.csv', header=0, names=['group', '2016'])\n",
    "df_17 = pd.read_csv('unmerged-census-data/2017-atlanta-census.csv', header=0, names=['group', '2017'])\n",
    "df_18 = pd.read_csv('unmerged-census-data/2018-atlanta-census.csv', header=0, names=['group', '2018'])"
   ]
  },
  {
   "cell_type": "code",
   "execution_count": 68,
   "metadata": {},
   "outputs": [
    {
     "data": {
      "text/html": [
       "<div>\n",
       "<style scoped>\n",
       "    .dataframe tbody tr th:only-of-type {\n",
       "        vertical-align: middle;\n",
       "    }\n",
       "\n",
       "    .dataframe tbody tr th {\n",
       "        vertical-align: top;\n",
       "    }\n",
       "\n",
       "    .dataframe thead th {\n",
       "        text-align: right;\n",
       "    }\n",
       "</style>\n",
       "<table border=\"1\" class=\"dataframe\">\n",
       "  <thead>\n",
       "    <tr style=\"text-align: right;\">\n",
       "      <th></th>\n",
       "      <th>group</th>\n",
       "      <th>2015</th>\n",
       "      <th>2016</th>\n",
       "      <th>2017</th>\n",
       "      <th>2018</th>\n",
       "    </tr>\n",
       "  </thead>\n",
       "  <tbody>\n",
       "    <tr>\n",
       "      <th>0</th>\n",
       "      <td>Total:</td>\n",
       "      <td>463875</td>\n",
       "      <td>472506</td>\n",
       "      <td>486299</td>\n",
       "      <td>498073</td>\n",
       "    </tr>\n",
       "    <tr>\n",
       "      <th>1</th>\n",
       "      <td>Not Hispanic or Latino:</td>\n",
       "      <td>445222</td>\n",
       "      <td>449408</td>\n",
       "      <td>465421</td>\n",
       "      <td>475094</td>\n",
       "    </tr>\n",
       "    <tr>\n",
       "      <th>2</th>\n",
       "      <td>White alone</td>\n",
       "      <td>176998</td>\n",
       "      <td>178077</td>\n",
       "      <td>179296</td>\n",
       "      <td>189230</td>\n",
       "    </tr>\n",
       "    <tr>\n",
       "      <th>3</th>\n",
       "      <td>Black or African American alone</td>\n",
       "      <td>239159</td>\n",
       "      <td>237590</td>\n",
       "      <td>253556</td>\n",
       "      <td>252493</td>\n",
       "    </tr>\n",
       "    <tr>\n",
       "      <th>4</th>\n",
       "      <td>American Indian and Alaska Native alone</td>\n",
       "      <td>652</td>\n",
       "      <td>951</td>\n",
       "      <td>374</td>\n",
       "      <td>495</td>\n",
       "    </tr>\n",
       "    <tr>\n",
       "      <th>5</th>\n",
       "      <td>Asian alone</td>\n",
       "      <td>20335</td>\n",
       "      <td>20253</td>\n",
       "      <td>19551</td>\n",
       "      <td>19875</td>\n",
       "    </tr>\n",
       "    <tr>\n",
       "      <th>6</th>\n",
       "      <td>Native Hawaiian and Other Pacific Isla...</td>\n",
       "      <td>147</td>\n",
       "      <td>170</td>\n",
       "      <td>0</td>\n",
       "      <td>142</td>\n",
       "    </tr>\n",
       "    <tr>\n",
       "      <th>7</th>\n",
       "      <td>Some other race alone</td>\n",
       "      <td>265</td>\n",
       "      <td>481</td>\n",
       "      <td>2129</td>\n",
       "      <td>1324</td>\n",
       "    </tr>\n",
       "    <tr>\n",
       "      <th>8</th>\n",
       "      <td>Two or more races:</td>\n",
       "      <td>7666</td>\n",
       "      <td>11886</td>\n",
       "      <td>10515</td>\n",
       "      <td>11535</td>\n",
       "    </tr>\n",
       "    <tr>\n",
       "      <th>9</th>\n",
       "      <td>Two races including Some other race</td>\n",
       "      <td>405</td>\n",
       "      <td>1236</td>\n",
       "      <td>144</td>\n",
       "      <td>471</td>\n",
       "    </tr>\n",
       "    <tr>\n",
       "      <th>10</th>\n",
       "      <td>Two races excluding Some other rac...</td>\n",
       "      <td>7261</td>\n",
       "      <td>10650</td>\n",
       "      <td>10371</td>\n",
       "      <td>11064</td>\n",
       "    </tr>\n",
       "    <tr>\n",
       "      <th>11</th>\n",
       "      <td>Hispanic or Latino:</td>\n",
       "      <td>18653</td>\n",
       "      <td>23098</td>\n",
       "      <td>20878</td>\n",
       "      <td>22979</td>\n",
       "    </tr>\n",
       "    <tr>\n",
       "      <th>12</th>\n",
       "      <td>White alone</td>\n",
       "      <td>12155</td>\n",
       "      <td>12815</td>\n",
       "      <td>11119</td>\n",
       "      <td>14285</td>\n",
       "    </tr>\n",
       "    <tr>\n",
       "      <th>13</th>\n",
       "      <td>Black or African American alone</td>\n",
       "      <td>1440</td>\n",
       "      <td>2612</td>\n",
       "      <td>3332</td>\n",
       "      <td>1277</td>\n",
       "    </tr>\n",
       "    <tr>\n",
       "      <th>14</th>\n",
       "      <td>American Indian and Alaska Native alone</td>\n",
       "      <td>651</td>\n",
       "      <td>1944</td>\n",
       "      <td>330</td>\n",
       "      <td>323</td>\n",
       "    </tr>\n",
       "    <tr>\n",
       "      <th>15</th>\n",
       "      <td>Asian alone</td>\n",
       "      <td>81</td>\n",
       "      <td>197</td>\n",
       "      <td>0</td>\n",
       "      <td>144</td>\n",
       "    </tr>\n",
       "    <tr>\n",
       "      <th>16</th>\n",
       "      <td>Native Hawaiian and Other Pacific Isla...</td>\n",
       "      <td>316</td>\n",
       "      <td>39</td>\n",
       "      <td>0</td>\n",
       "      <td>0</td>\n",
       "    </tr>\n",
       "    <tr>\n",
       "      <th>17</th>\n",
       "      <td>Some other race alone</td>\n",
       "      <td>2282</td>\n",
       "      <td>3482</td>\n",
       "      <td>4409</td>\n",
       "      <td>5214</td>\n",
       "    </tr>\n",
       "    <tr>\n",
       "      <th>18</th>\n",
       "      <td>Two or more races:</td>\n",
       "      <td>1728</td>\n",
       "      <td>2009</td>\n",
       "      <td>1688</td>\n",
       "      <td>1736</td>\n",
       "    </tr>\n",
       "    <tr>\n",
       "      <th>19</th>\n",
       "      <td>Two races including Some other race</td>\n",
       "      <td>529</td>\n",
       "      <td>578</td>\n",
       "      <td>766</td>\n",
       "      <td>571</td>\n",
       "    </tr>\n",
       "    <tr>\n",
       "      <th>20</th>\n",
       "      <td>Two races excluding Some other rac...</td>\n",
       "      <td>1199</td>\n",
       "      <td>1431</td>\n",
       "      <td>922</td>\n",
       "      <td>1165</td>\n",
       "    </tr>\n",
       "  </tbody>\n",
       "</table>\n",
       "</div>"
      ],
      "text/plain": [
       "                                                group    2015    2016    2017  \\\n",
       "0                                              Total:  463875  472506  486299   \n",
       "1                             Not Hispanic or Latino:  445222  449408  465421   \n",
       "2                                         White alone  176998  178077  179296   \n",
       "3                     Black or African American alone  239159  237590  253556   \n",
       "4             American Indian and Alaska Native alone     652     951     374   \n",
       "5                                         Asian alone   20335   20253   19551   \n",
       "6           Native Hawaiian and Other Pacific Isla...     147     170       0   \n",
       "7                               Some other race alone     265     481    2129   \n",
       "8                                  Two or more races:    7666   11886   10515   \n",
       "9                 Two races including Some other race     405    1236     144   \n",
       "10              Two races excluding Some other rac...    7261   10650   10371   \n",
       "11                                Hispanic or Latino:   18653   23098   20878   \n",
       "12                                        White alone   12155   12815   11119   \n",
       "13                    Black or African American alone    1440    2612    3332   \n",
       "14            American Indian and Alaska Native alone     651    1944     330   \n",
       "15                                        Asian alone      81     197       0   \n",
       "16          Native Hawaiian and Other Pacific Isla...     316      39       0   \n",
       "17                              Some other race alone    2282    3482    4409   \n",
       "18                                 Two or more races:    1728    2009    1688   \n",
       "19                Two races including Some other race     529     578     766   \n",
       "20              Two races excluding Some other rac...    1199    1431     922   \n",
       "\n",
       "      2018  \n",
       "0   498073  \n",
       "1   475094  \n",
       "2   189230  \n",
       "3   252493  \n",
       "4      495  \n",
       "5    19875  \n",
       "6      142  \n",
       "7     1324  \n",
       "8    11535  \n",
       "9      471  \n",
       "10   11064  \n",
       "11   22979  \n",
       "12   14285  \n",
       "13    1277  \n",
       "14     323  \n",
       "15     144  \n",
       "16       0  \n",
       "17    5214  \n",
       "18    1736  \n",
       "19     571  \n",
       "20    1165  "
      ]
     },
     "execution_count": 68,
     "metadata": {},
     "output_type": "execute_result"
    }
   ],
   "source": [
    "cens_df = pd.merge(df_15, df_16['2016'], left_index=True, right_index=True, how = 'left')\n",
    "cens_df = pd.merge(cens_df, df_17['2017'], left_index=True, right_index=True, how = 'left')\n",
    "cens_df = pd.merge(cens_df, df_18['2018'], left_index=True, right_index=True, how = 'left')\n",
    "\n",
    "cens_df['2015'] = cens_df['2015'].str.replace(',', '').astype(int)\n",
    "cens_df['2016'] = cens_df['2016'].str.replace(',', '').astype(int)\n",
    "cens_df['2017'] = cens_df['2017'].str.replace(',', '').astype(int)\n",
    "cens_df['2018'] = cens_df['2018'].str.replace(',', '').astype(int)\n",
    "\n",
    "cens_df"
   ]
  },
  {
   "cell_type": "code",
   "execution_count": 71,
   "metadata": {},
   "outputs": [
    {
     "ename": "AttributeError",
     "evalue": "'NoneType' object has no attribute 'iloc'",
     "output_type": "error",
     "traceback": [
      "\u001b[1;31m---------------------------------------------------------------------------\u001b[0m",
      "\u001b[1;31mAttributeError\u001b[0m                            Traceback (most recent call last)",
      "Cell \u001b[1;32mIn[71], line 1\u001b[0m\n\u001b[1;32m----> 1\u001b[0m cens_df \u001b[39m=\u001b[39m cens_df\u001b[39m.\u001b[39;49miloc[\u001b[39m12\u001b[39m]\u001b[39m.\u001b[39mreplace(\u001b[39m'\u001b[39m\u001b[39mWhite alone\u001b[39m\u001b[39m'\u001b[39m, \u001b[39m'\u001b[39m\u001b[39mH - White alone\u001b[39m\u001b[39m'\u001b[39m, inplace\u001b[39m=\u001b[39m \u001b[39mTrue\u001b[39;00m)\n\u001b[0;32m      2\u001b[0m cens_df\n",
      "\u001b[1;31mAttributeError\u001b[0m: 'NoneType' object has no attribute 'iloc'"
     ]
    }
   ],
   "source": [
    "cens_df = cens_df.iloc[12].replace('White alone', 'H - White alone', inplace= True)\n",
    "cens_df"
   ]
  },
  {
   "cell_type": "code",
   "execution_count": 70,
   "metadata": {},
   "outputs": [
    {
     "ename": "TypeError",
     "evalue": "argument of type 'NoneType' is not iterable",
     "output_type": "error",
     "traceback": [
      "\u001b[1;31m---------------------------------------------------------------------------\u001b[0m",
      "\u001b[1;31mTypeError\u001b[0m                                 Traceback (most recent call last)",
      "Cell \u001b[1;32mIn[70], line 5\u001b[0m\n\u001b[0;32m      1\u001b[0m years \u001b[39m=\u001b[39m [\u001b[39m'\u001b[39m\u001b[39m2015\u001b[39m\u001b[39m'\u001b[39m, \u001b[39m'\u001b[39m\u001b[39m2016\u001b[39m\u001b[39m'\u001b[39m, \u001b[39m'\u001b[39m\u001b[39m2017\u001b[39m\u001b[39m'\u001b[39m, \u001b[39m'\u001b[39m\u001b[39m2018\u001b[39m\u001b[39m'\u001b[39m]\n\u001b[0;32m      3\u001b[0m \u001b[39m# piv_cens = cens_df.pivot_table(columns = 'group', index = years)\u001b[39;00m\n\u001b[1;32m----> 5\u001b[0m piv_cens \u001b[39m=\u001b[39m pd\u001b[39m.\u001b[39;49mpivot_table(data \u001b[39m=\u001b[39;49m cens_df, values \u001b[39m=\u001b[39;49m[\u001b[39m'\u001b[39;49m\u001b[39m2015\u001b[39;49m\u001b[39m'\u001b[39;49m, \u001b[39m'\u001b[39;49m\u001b[39m2016\u001b[39;49m\u001b[39m'\u001b[39;49m, \u001b[39m'\u001b[39;49m\u001b[39m2017\u001b[39;49m\u001b[39m'\u001b[39;49m, \u001b[39m'\u001b[39;49m\u001b[39m2018\u001b[39;49m\u001b[39m'\u001b[39;49m], columns\u001b[39m=\u001b[39;49m\u001b[39m\"\u001b[39;49m\u001b[39mgroup\u001b[39;49m\u001b[39m\"\u001b[39;49m)\n\u001b[0;32m      7\u001b[0m piv_cens\n",
      "File \u001b[1;32mc:\\Users\\Katerade\\anaconda3\\envs\\code_lou_venv\\lib\\site-packages\\pandas\\core\\reshape\\pivot.py:97\u001b[0m, in \u001b[0;36mpivot_table\u001b[1;34m(data, values, index, columns, aggfunc, fill_value, margins, dropna, margins_name, observed, sort)\u001b[0m\n\u001b[0;32m     94\u001b[0m     table \u001b[39m=\u001b[39m concat(pieces, keys\u001b[39m=\u001b[39mkeys, axis\u001b[39m=\u001b[39m\u001b[39m1\u001b[39m)\n\u001b[0;32m     95\u001b[0m     \u001b[39mreturn\u001b[39;00m table\u001b[39m.\u001b[39m__finalize__(data, method\u001b[39m=\u001b[39m\u001b[39m\"\u001b[39m\u001b[39mpivot_table\u001b[39m\u001b[39m\"\u001b[39m)\n\u001b[1;32m---> 97\u001b[0m table \u001b[39m=\u001b[39m __internal_pivot_table(\n\u001b[0;32m     98\u001b[0m     data,\n\u001b[0;32m     99\u001b[0m     values,\n\u001b[0;32m    100\u001b[0m     index,\n\u001b[0;32m    101\u001b[0m     columns,\n\u001b[0;32m    102\u001b[0m     aggfunc,\n\u001b[0;32m    103\u001b[0m     fill_value,\n\u001b[0;32m    104\u001b[0m     margins,\n\u001b[0;32m    105\u001b[0m     dropna,\n\u001b[0;32m    106\u001b[0m     margins_name,\n\u001b[0;32m    107\u001b[0m     observed,\n\u001b[0;32m    108\u001b[0m     sort,\n\u001b[0;32m    109\u001b[0m )\n\u001b[0;32m    110\u001b[0m \u001b[39mreturn\u001b[39;00m table\u001b[39m.\u001b[39m__finalize__(data, method\u001b[39m=\u001b[39m\u001b[39m\"\u001b[39m\u001b[39mpivot_table\u001b[39m\u001b[39m\"\u001b[39m)\n",
      "File \u001b[1;32mc:\\Users\\Katerade\\anaconda3\\envs\\code_lou_venv\\lib\\site-packages\\pandas\\core\\reshape\\pivot.py:142\u001b[0m, in \u001b[0;36m__internal_pivot_table\u001b[1;34m(data, values, index, columns, aggfunc, fill_value, margins, dropna, margins_name, observed, sort)\u001b[0m\n\u001b[0;32m    140\u001b[0m \u001b[39m# GH14938 Make sure value labels are in data\u001b[39;00m\n\u001b[0;32m    141\u001b[0m \u001b[39mfor\u001b[39;00m i \u001b[39min\u001b[39;00m values:\n\u001b[1;32m--> 142\u001b[0m     \u001b[39mif\u001b[39;00m i \u001b[39mnot\u001b[39;49;00m \u001b[39min\u001b[39;49;00m data:\n\u001b[0;32m    143\u001b[0m         \u001b[39mraise\u001b[39;00m \u001b[39mKeyError\u001b[39;00m(i)\n\u001b[0;32m    145\u001b[0m to_filter \u001b[39m=\u001b[39m []\n",
      "\u001b[1;31mTypeError\u001b[0m: argument of type 'NoneType' is not iterable"
     ]
    }
   ],
   "source": [
    "years = ['2015', '2016', '2017', '2018']\n",
    "\n",
    "# piv_cens = cens_df.pivot_table(columns = 'group', index = years)\n",
    "\n",
    "piv_cens = pd.pivot_table(data = cens_df, values =['2015', '2016', '2017', '2018'], columns=\"group\")\n",
    "\n",
    "piv_cens\n"
   ]
  },
  {
   "cell_type": "code",
   "execution_count": null,
   "metadata": {},
   "outputs": [
    {
     "data": {
      "text/plain": [
       "(4, 12)"
      ]
     },
     "execution_count": 47,
     "metadata": {},
     "output_type": "execute_result"
    }
   ],
   "source": [
    "piv_cens.shape"
   ]
  },
  {
   "cell_type": "code",
   "execution_count": null,
   "metadata": {},
   "outputs": [],
   "source": [
    "cens_df.to_excel(excel_writer= 'atlanta-census.xlsx' , sheet_name='2015-2018')"
   ]
  },
  {
   "cell_type": "code",
   "execution_count": null,
   "metadata": {},
   "outputs": [],
   "source": [
    "piv_cens.to_excel(excel_writer= 'piv_atlanta-census.xlsx', sheet_name= '2015-2018')"
   ]
  },
  {
   "cell_type": "code",
   "execution_count": null,
   "metadata": {},
   "outputs": [
    {
     "data": {
      "text/plain": [
       "'\\nTHINGS TO DO:\\n-Change Hispanic to H-\\n-\\n'"
      ]
     },
     "execution_count": 50,
     "metadata": {},
     "output_type": "execute_result"
    }
   ],
   "source": [
    "'''\n",
    "THINGS TO DO:\n",
    "-Change Hispanic to H-\n",
    "-\n",
    "'''\n",
    "\n"
   ]
  }
 ],
 "metadata": {
  "kernelspec": {
   "display_name": "code_lou_venv",
   "language": "python",
   "name": "python3"
  },
  "language_info": {
   "codemirror_mode": {
    "name": "ipython",
    "version": 3
   },
   "file_extension": ".py",
   "mimetype": "text/x-python",
   "name": "python",
   "nbconvert_exporter": "python",
   "pygments_lexer": "ipython3",
   "version": "3.9.16"
  },
  "orig_nbformat": 4
 },
 "nbformat": 4,
 "nbformat_minor": 2
}
